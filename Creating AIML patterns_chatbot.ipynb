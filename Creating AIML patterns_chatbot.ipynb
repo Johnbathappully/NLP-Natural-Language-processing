{
 "cells": [
  {
   "cell_type": "code",
   "execution_count": null,
   "metadata": {},
   "outputs": [
    {
     "name": "stdout",
     "output_type": "stream",
     "text": [
      "Loading from brain file: D:/Bot/aiml_pretrained_model.dump\n",
      "Loading brain from D:/Bot/aiml_pretrained_model.dump...done (101908 categories in 3.89 seconds)\n",
      "User > Hello Bot\n",
      "bot >  Hello... Nice to meet you. I am a robot.\n"
     ]
    }
   ],
   "source": [
    "import os\n",
    "import aiml\n",
    "from autocorrect import spell\n",
    "\n",
    "BRAIN_FILE=\"D:/Bot/aiml_pretrained_model.dump\"\n",
    "\n",
    "k = aiml.Kernel()\n",
    "\n",
    "if os.path.exists(BRAIN_FILE):\n",
    "    print(\"Loading from brain file: \" + BRAIN_FILE)\n",
    "    k.loadBrain(BRAIN_FILE)\n",
    "else:\n",
    "    print(\"Parsing aiml files\")\n",
    "    k.bootstrap(learnFiles=\"D:/Bot/learningFileList.aiml\", commands=\"load aiml\")\n",
    "    print(\"Saving brain file: \" + BRAIN_FILE)\n",
    "    k.saveBrain(BRAIN_FILE)\n",
    "\n",
    "\n",
    "while True:\n",
    "    query = input(\"User > \")\n",
    "    query = [spell(w) for w in (query.split())]\n",
    "    question = \" \".join(query)\n",
    "    response = k.respond(question)\n",
    "    if response:\n",
    "        print(\"bot > \", response)\n",
    "    else:\n",
    "        print(\"bot > :) \", )"
   ]
  },
  {
   "cell_type": "code",
   "execution_count": null,
   "metadata": {},
   "outputs": [],
   "source": []
  }
 ],
 "metadata": {
  "kernelspec": {
   "display_name": "Python 3 (ipykernel)",
   "language": "python",
   "name": "python3"
  },
  "language_info": {
   "codemirror_mode": {
    "name": "ipython",
    "version": 3
   },
   "file_extension": ".py",
   "mimetype": "text/x-python",
   "name": "python",
   "nbconvert_exporter": "python",
   "pygments_lexer": "ipython3",
   "version": "3.9.12"
  }
 },
 "nbformat": 4,
 "nbformat_minor": 2
}

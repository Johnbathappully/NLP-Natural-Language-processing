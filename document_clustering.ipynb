{
 "cells": [
  {
   "cell_type": "markdown",
   "metadata": {},
   "source": [
    "### Lesson End Project"
   ]
  },
  {
   "cell_type": "raw",
   "metadata": {},
   "source": [
    "You are given a zip file which contains summaries of news from BBC. The Data is taken from Kaggle. (https://www.kaggle.com/pariza/bbc-news-summary) \n",
    "The zip file contains a folder: ‘BBC News Articles ‘ \n",
    "This folder contains 5 sub folders, named: \n",
    "1.\tBusiness \n",
    "2.\tEntertainment \n",
    "3.\tPolitics \n",
    "4.\tSports\n",
    "5.\tTech \n",
    "\n",
    "Each of these subfolders contains text files which have summaries of different news articles. \n",
    "These are the tasks which you have to perform:\n",
    "•\tRead all the files from all subfolders and store their summaries in a single CSV file. Name CSV File as: “BBCNewsArticles.csv”\n",
    "\n",
    "The CSV should contain: \n",
    "Article\n",
    "<The text from file 1 >\n",
    "<The text from file 2>\n",
    "<The text from file 3>\n",
    "\n",
    "……… \n",
    "\n",
    "•\tRandomly arrange the data \n",
    "\n",
    "•\tPreprocess each article using Text Preprocessing \n",
    "\n",
    "•\tOn the preprocessed text, perform Vectorization using 3 types of vectors.\n",
    "1.\t“PresenceAbsenceVector”: Converts Article to vectors using Presence and Absence of Words\n",
    "2.\t“CountVector”: Converts Article to vectors using Count of Words\n",
    "3.\t“TF-IDFVector”: Converts Article to vectors using TF-IDF vectorization\n",
    "\n",
    "•\tPerform clustering on the dataset using all 3 different types of vectorizations. The number of clusters should be 5. \n",
    "You can choose any appropriate clustering algorithm of your choice. \n",
    "Make models for each type of vectorization. We will have a total of 3 models.\n",
    "\n",
    "•\tSave the Clusters Label for each model in the CSV file\n",
    "\n",
    "•\tEvaluate and compare the performance of 3 models on basis of Silhouette Coefficient.\n",
    "\n",
    "•\tProvide Visualizations for all 3 models. You can show scatter plots and bar graphs.\n",
    "\n",
    "•\tProvide your explanation for the following questions \n",
    "\n",
    "1.\tWhat does Silhouette Coefficient tell us?\n",
    "2.\tWhich algorithm you chose and why?\n",
    "3.\tCan you provide an appropriate name to a cluster label? If yes, then explain your observations.\n",
    "4.\tWhich vectorization technique is the best and why?\n"
   ]
  },
  {
   "cell_type": "code",
   "execution_count": 1,
   "metadata": {},
   "outputs": [
    {
     "name": "stderr",
     "output_type": "stream",
     "text": [
      "[nltk_data] Downloading package wordnet to\n",
      "[nltk_data]     C:\\Users\\atul.singh\\AppData\\Roaming\\nltk_data...\n",
      "[nltk_data]   Unzipping corpora\\wordnet.zip.\n"
     ]
    }
   ],
   "source": [
    "\n",
    "\n",
    "import nltk\n",
    "from nltk.corpus import stopwords\n",
    "from string import punctuation\n",
    "from nltk.stem import  wordnet\n",
    "from nltk.stem import WordNetLemmatizer\n",
    "\n",
    "nltk.download('wordnet')\n",
    "\n",
    "#Tokenize Function\n",
    "def Tokenize(string):\n",
    "    tokens=nltk.tokenize.word_tokenize(string)\n",
    "    return \" \".join(tokens)\n",
    "\n",
    "#RemoveStopWordsFunction\n",
    "def RemoveStopWords(string):\n",
    "    #Removing Punctuations\n",
    "    for each in punctuation:\n",
    "        string=string.replace(each,\"\")\n",
    "    \n",
    "    #Removing Stopwords\n",
    "    english_stopwords=stopwords.words('english')\n",
    "    stopwords_removed_tokens=[]\n",
    "    words=string.split(\" \")\n",
    "    \n",
    "    for each in words:\n",
    "        if each not in english_stopwords:\n",
    "            stopwords_removed_tokens.append(each)\n",
    "    return \" \".join(stopwords_removed_tokens) \n",
    "\n",
    "\n",
    "#LemmatizeFunction\n",
    "def Lemmatize(string):\n",
    "    word_lem=WordNetLemmatizer()\n",
    "    words=string.split() \n",
    "    lemmatizeWords=[]\n",
    "    for each in words:\n",
    "        try:\n",
    "            lemmatizeWords.append(word_lem.lemmatize(each))\n",
    "        except:\n",
    "            continue\n",
    "    return \" \".join(lemmatizeWords)\n",
    "\n",
    "def Refine(string):\n",
    "    return Lemmatize(RemoveStopWords(Tokenize(string)))\n",
    "\n"
   ]
  },
  {
   "cell_type": "code",
   "execution_count": 2,
   "metadata": {},
   "outputs": [],
   "source": [
    "#Read all the files from all subfolders and store their summaries in a single CSV file.\n",
    "#Name CSV File as: “BBCNewsArticles.csv”\n",
    "\n",
    "import os\n",
    "data=[]\n",
    "for path,folders,files in os.walk('BBC News Articles'):\n",
    "    for each in files:\n",
    "        if each.endswith('txt'):\n",
    "            f=open(path+\"//\"+each,'r')\n",
    "            content=f.read()\n",
    "            data.append(content)\n",
    "            f.close()\n",
    "        \n",
    "import pandas as pd\n",
    "df=pd.DataFrame(data,columns=['Article'])\n",
    "df.to_csv('BBCNewsArticles.csv',index=False)    "
   ]
  },
  {
   "cell_type": "code",
   "execution_count": 3,
   "metadata": {},
   "outputs": [],
   "source": [
    "#Randomly arrange the data \n",
    "from sklearn.utils import shuffle\n",
    "df = shuffle(df)"
   ]
  },
  {
   "cell_type": "code",
   "execution_count": 4,
   "metadata": {},
   "outputs": [],
   "source": [
    "#Preprocess the data\n",
    "\n",
    "#Set system encoding to utf-8\n",
    "#import sys  \n",
    "#reload(sys)  \n",
    "#sys.setdefaultencoding('utf8')\n",
    "\n",
    "#Use the refine module\n",
    "df['Refined-Article']=list(map(lambda x: Refine(x),df['Article']))"
   ]
  },
  {
   "cell_type": "code",
   "execution_count": 5,
   "metadata": {},
   "outputs": [],
   "source": [
    "#On the preprocessed text, perform Vectorization using 3 types of vectors.\n",
    "\n",
    "#use previous Vectorization file made in earlier module\n",
    "from Vectorization import *\n",
    "\n",
    "#“PresenceAbsenceVector”: Converts Article to vectors using Presence and Absence of Words\n",
    "df['Refined-Article-Presence-Absence-Vectorized']=PresenceAbsenceVectorization(df['Refined-Article'])"
   ]
  },
  {
   "cell_type": "code",
   "execution_count": 6,
   "metadata": {},
   "outputs": [],
   "source": [
    "#“CountVector”: Converts Article to vectors using Count of Words\n",
    "df['Refined-Article-Count-Vectorized']=CountVectorization(df['Refined-Article'])"
   ]
  },
  {
   "cell_type": "code",
   "execution_count": 7,
   "metadata": {},
   "outputs": [],
   "source": [
    "#\"TF-IDFVector”: Converts Article to vectors using TF-IDF vectorization\n",
    "df['Refined-Article-TFIDF-Vectorized']=TFIDFVectorization(df['Refined-Article'])"
   ]
  },
  {
   "cell_type": "code",
   "execution_count": 8,
   "metadata": {},
   "outputs": [],
   "source": [
    "#Perform clustering on the dataset using all 3 different types of vectorizations. The number of clusters should be 5. \n",
    "\n",
    "\n",
    "from sklearn.cluster import KMeans\n",
    "\n",
    "\n",
    "#Clustering on Presence and Absence Vectorization \n",
    "X_PresenceAndAbsenceVectorization=list(df['Refined-Article-Presence-Absence-Vectorized'])\n",
    "kmeans_PresenceAndAbsenceVectorization = KMeans(n_clusters=5, random_state=0).fit(X_PresenceAndAbsenceVectorization)\n",
    "labels_PresenceAndAbsenceVectorization=kmeans_PresenceAndAbsenceVectorization.labels_\n",
    "\n",
    "\n",
    "#Clustering on Count Vectorization\n",
    "X_CountVectorization=list(df['Refined-Article-Count-Vectorized'])\n",
    "kmeans_CountVectorization = KMeans(n_clusters=5, random_state=0).fit(X_CountVectorization)\n",
    "labels_CountVectorization=kmeans_CountVectorization.labels_\n",
    "\n",
    "#Clustering on TFIDF Vectorization\n",
    "X_TFIDFVectorization=list(df['Refined-Article-TFIDF-Vectorized'])\n",
    "kmeans_TFIDFVectorization = KMeans(n_clusters=5, random_state=0).fit(X_TFIDFVectorization)\n",
    "labels_TFIDFVectorization=kmeans_TFIDFVectorization.labels_\n"
   ]
  },
  {
   "cell_type": "code",
   "execution_count": 9,
   "metadata": {},
   "outputs": [],
   "source": [
    "#Save the Clusters Label for each model \n",
    "df['labels_PresenceAndAbsenceVectorization']=labels_PresenceAndAbsenceVectorization\n",
    "df['labels_CountVectorization']=labels_CountVectorization\n",
    "df['labels_TFIDFVectorization']=labels_TFIDFVectorization\n",
    "\n",
    "df.to_csv('BBCNewsArticlesClustered.csv',index=False)"
   ]
  },
  {
   "cell_type": "code",
   "execution_count": 10,
   "metadata": {},
   "outputs": [
    {
     "name": "stdout",
     "output_type": "stream",
     "text": [
      "-0.009724511430415781\n",
      "0.10498481324585775\n",
      "0.01599482984114089\n"
     ]
    }
   ],
   "source": [
    "#Compute Silhoutte Score\n",
    "from sklearn.metrics import silhouette_score\n",
    "\n",
    "print (silhouette_score(list(df['Refined-Article-Presence-Absence-Vectorized']),df['labels_PresenceAndAbsenceVectorization']))\n",
    "\n",
    "print (silhouette_score(list(df['Refined-Article-Count-Vectorized']),df['labels_CountVectorization']))\n",
    "\n",
    "print( silhouette_score(list(df['Refined-Article-TFIDF-Vectorized']),df['labels_TFIDFVectorization']))"
   ]
  },
  {
   "cell_type": "code",
   "execution_count": 11,
   "metadata": {},
   "outputs": [],
   "source": [
    "#Plotting results\n",
    "import matplotlib.pyplot as plt"
   ]
  },
  {
   "cell_type": "code",
   "execution_count": 12,
   "metadata": {},
   "outputs": [
    {
     "name": "stdout",
     "output_type": "stream",
     "text": [
      "                                        Article\n",
      "labels_PresenceAndAbsenceVectorization         \n",
      "0                                             1\n",
      "1                                             1\n",
      "2                                             3\n",
      "3                                             1\n",
      "4                                           173\n"
     ]
    },
    {
     "data": {
      "image/png": "[encoded data removed]",
      "text/plain": [
       "<Figure size 432x288 with 1 Axes>"
      ]
     },
     "metadata": {
      "needs_background": "light"
     },
     "output_type": "display_data"
    },
    {
     "data": {
      "image/png": "[encoded data removed]",
      "text/plain": [
       "<Figure size 432x288 with 1 Axes>"
      ]
     },
     "metadata": {
      "needs_background": "light"
     },
     "output_type": "display_data"
    }
   ],
   "source": [
    "counts=df.groupby('labels_PresenceAndAbsenceVectorization')[['Article']].count()\n",
    "print (counts)\n",
    "plt.bar(counts.index,counts['Article'],color=['red','yellow','blue','green','pink'],align=\"center\")\n",
    "plt.title(\"Frequency Cluster wise\")\n",
    "plt.xlabel(\"Cluster Label\")\n",
    "plt.ylabel(\"Frequency\")\n",
    "plt.show()\n",
    "\n",
    "\n",
    "for group,subset in df.groupby('labels_PresenceAndAbsenceVectorization'):\n",
    "    if group==0:\n",
    "        plt.scatter(subset.index,range(len(subset)),c='red',edgecolors='face')\n",
    "    elif group==1:\n",
    "        plt.scatter(subset.index,range(len(subset)),c='yellow',edgecolors='face')\n",
    "    elif group==2:\n",
    "        plt.scatter(subset.index,range(len(subset)),c='blue',edgecolors='face')\n",
    "    elif group==3:\n",
    "        plt.scatter(subset.index,range(len(subset)),c='green',edgecolors='face')\n",
    "    else:\n",
    "        plt.scatter(subset.index,range(len(subset)),c='pink',edgecolors='face')\n",
    "plt.title(\"Distribution of Articles on basis of Presence Absence Vectorization\")\n",
    "plt.ylabel(\"Article Index number\")        \n",
    "plt.show()  \n",
    "\n"
   ]
  },
  {
   "cell_type": "code",
   "execution_count": 13,
   "metadata": {},
   "outputs": [
    {
     "name": "stdout",
     "output_type": "stream",
     "text": [
      "                           Article\n",
      "labels_CountVectorization         \n",
      "0                               12\n",
      "1                              125\n",
      "2                                7\n",
      "3                               34\n",
      "4                                1\n"
     ]
    },
    {
     "data": {
      "image/png": "[encoded data removed]",
      "text/plain": [
       "<Figure size 432x288 with 1 Axes>"
      ]
     },
     "metadata": {
      "needs_background": "light"
     },
     "output_type": "display_data"
    },
    {
     "data": {
      "image/png": "[encoded data removed]",
      "text/plain": [
       "<Figure size 432x288 with 1 Axes>"
      ]
     },
     "metadata": {
      "needs_background": "light"
     },
     "output_type": "display_data"
    }
   ],
   "source": [
    "counts=df.groupby('labels_CountVectorization')[['Article']].count()\n",
    "print (counts)\n",
    "plt.bar(counts.index,counts['Article'],color=['red','yellow','blue','green','pink'],align=\"center\")\n",
    "plt.title(\"Frequency Cluster wise\")\n",
    "plt.xlabel(\"Cluster Label\")\n",
    "plt.ylabel(\"Frequency\")\n",
    "plt.show()\n",
    "\n",
    "\n",
    "for group,subset in df.groupby('labels_CountVectorization'):\n",
    "    if group==0:\n",
    "        plt.scatter(subset.index,range(len(subset)),c='red',edgecolors='face')\n",
    "    elif group==1:\n",
    "        plt.scatter(subset.index,range(len(subset)),c='yellow',edgecolors='face')\n",
    "    elif group==2:\n",
    "        plt.scatter(subset.index,range(len(subset)),c='blue',edgecolors='face')\n",
    "    elif group==3:\n",
    "        plt.scatter(subset.index,range(len(subset)),c='green',edgecolors='face')\n",
    "    else:\n",
    "        plt.scatter(subset.index,range(len(subset)),c='pink',edgecolors='face')\n",
    "plt.title(\"Distribution of Articles on basis of Count Vectorization\")\n",
    "plt.ylabel(\"Article Index number\")        \n",
    "plt.show()  "
   ]
  },
  {
   "cell_type": "code",
   "execution_count": 14,
   "metadata": {},
   "outputs": [
    {
     "name": "stdout",
     "output_type": "stream",
     "text": [
      "                           Article\n",
      "labels_TFIDFVectorization         \n",
      "0                               40\n",
      "1                               66\n",
      "2                               33\n",
      "3                               17\n",
      "4                               23\n"
     ]
    },
    {
     "data": {
      "image/png": "[encoded data removed]",
      "text/plain": [
       "<Figure size 432x288 with 1 Axes>"
      ]
     },
     "metadata": {
      "needs_background": "light"
     },
     "output_type": "display_data"
    },
    {
     "data": {
      "image/png": "[encoded data removed]",
      "text/plain": [
       "<Figure size 432x288 with 1 Axes>"
      ]
     },
     "metadata": {
      "needs_background": "light"
     },
     "output_type": "display_data"
    }
   ],
   "source": [
    "counts=df.groupby('labels_TFIDFVectorization')[['Article']].count()\n",
    "print (counts)\n",
    "plt.bar(counts.index,counts['Article'],color=['red','yellow','blue','green','pink'],align=\"center\")\n",
    "plt.title(\"Frequency Cluster wise\")\n",
    "plt.xlabel(\"Cluster Label\")\n",
    "plt.ylabel(\"Frequency\")\n",
    "plt.show()\n",
    "\n",
    "for group,subset in df.groupby('labels_TFIDFVectorization'):\n",
    "    if group==0:\n",
    "        plt.scatter(subset.index,range(len(subset)),c='red',edgecolors='face')\n",
    "    elif group==1:\n",
    "        plt.scatter(subset.index,range(len(subset)),c='yellow',edgecolors='face')\n",
    "    elif group==2:\n",
    "        plt.scatter(subset.index,range(len(subset)),c='blue',edgecolors='face')\n",
    "    elif group==3:\n",
    "        plt.scatter(subset.index,range(len(subset)),c='green',edgecolors='face')\n",
    "    else:\n",
    "        plt.scatter(subset.index,range(len(subset)),c='pink',edgecolors='face')\n",
    "plt.title(\"Distribution of Articles on basis of TFIDF Vectorization\")\n",
    "plt.ylabel(\"Article Index number\")        \n",
    "plt.show()  "
   ]
  },
  {
   "cell_type": "markdown",
   "metadata": {},
   "source": [
    "## Answers to questions "
   ]
  },
  {
   "cell_type": "raw",
   "metadata": {},
   "source": [
    "#1. What does silhoutte score tells us ?\n",
    "\n",
    "The silhouette value is a measure of how similar an object is to its own cluster (cohesion) compared to other clusters (separation). The silhouette ranges from −1 to +1, where a high value indicates that the object is well matched to its own cluster and poorly matched to neighboring clusters. If most objects have a high value, then the clustering configuration is appropriate. If many points have a low or negative value, then the clustering configuration may have too many or too few clusters.\n",
    "The silhouette can be calculated with any distance metric, such as the Euclidean distance or the Manhattan distance."
   ]
  },
  {
   "cell_type": "raw",
   "metadata": {},
   "source": [
    "#2. Which Alogorithm we chose and why ?\n",
    "\n",
    "Kmeans was chosen as number of clusters were given."
   ]
  },
  {
   "cell_type": "raw",
   "metadata": {},
   "source": [
    "# 3.Can you provide an appropriate name to a cluster label? If yes, then explain your observations.\n",
    "\n",
    "See the explanation below:\n",
    "\n",
    "Let's consider TF_IDF Vectorization and randomy take 3 articles from each label \n",
    "Read the first 50 words from the random articles from each label and observe if they are referring to the same news . We had subfolders such as 'business','sports' etc .Now relate if you can provide a name to the cluster."
   ]
  },
  {
   "cell_type": "raw",
   "metadata": {},
   "source": [
    "#4.Which vectorization technique is the best and why?\n",
    "\n",
    "Best results are provided by TF_IDF .\n",
    "In others we observe the results are biased towards a particular label but here we get competitive number of articles under each label."
   ]
  },
  {
   "cell_type": "code",
   "execution_count": null,
   "metadata": {},
   "outputs": [],
   "source": []
  },
  {
   "cell_type": "code",
   "execution_count": null,
   "metadata": {},
   "outputs": [],
   "source": []
  }
 ],
 "metadata": {
  "kernelspec": {
   "display_name": "Python 3 (ipykernel)",
   "language": "python",
   "name": "python3"
  },
  "language_info": {
   "codemirror_mode": {
    "name": "ipython",
    "version": 3
   },
   "file_extension": ".py",
   "mimetype": "text/x-python",
   "name": "python",
   "nbconvert_exporter": "python",
   "pygments_lexer": "ipython3",
   "version": "3.9.12"
  }
 },
 "nbformat": 4,
 "nbformat_minor": 2
}
